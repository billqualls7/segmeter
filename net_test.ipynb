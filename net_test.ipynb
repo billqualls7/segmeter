{
 "cells": [
  {
   "cell_type": "code",
   "execution_count": 18,
   "metadata": {},
   "outputs": [],
   "source": [
    "import datetime\n",
    "import os\n",
    "from functools import partial\n",
    "\n",
    "import numpy as np\n",
    "import torch\n",
    "import torch.backends.cudnn as cudnn\n",
    "import torch.distributed as dist\n",
    "import torch.optim as optim\n",
    "from torch.utils.data import DataLoader\n",
    "\n",
    "from nets.segformer import SegFormer\n",
    "from nets.segformer_training import (get_lr_scheduler, set_optimizer_lr,\n",
    "                                     weights_init)\n",
    "from utils.callbacks import EvalCallback, LossHistory\n",
    "from utils.dataloader import SegmentationDataset, seg_dataset_collate\n",
    "from utils.utils import (download_weights, seed_everything, show_config,\n",
    "                         worker_init_fn)\n",
    "from utils.utils_fit import fit_one_epoch"
   ]
  },
  {
   "cell_type": "code",
   "execution_count": null,
   "metadata": {},
   "outputs": [
    {
     "name": "stdout",
     "output_type": "stream",
     "text": [
      "torch.Size([1, 3, 640, 640])\n"
     ]
    }
   ],
   "source": [
    "if __name__ == '__main__':\n",
    "    net = SegFormer(num_classes=3)\n",
    "    input_tensor = torch.randn(1, 3, 640, 640)\n",
    "    out = net(input_tensor)\n",
    "    print(out.shape)"
   ]
  }
 ],
 "metadata": {
  "kernelspec": {
   "display_name": "openmmlab",
   "language": "python",
   "name": "python3"
  },
  "language_info": {
   "codemirror_mode": {
    "name": "ipython",
    "version": 3
   },
   "file_extension": ".py",
   "mimetype": "text/x-python",
   "name": "python",
   "nbconvert_exporter": "python",
   "pygments_lexer": "ipython3",
   "version": "3.8.20"
  }
 },
 "nbformat": 4,
 "nbformat_minor": 2
}
